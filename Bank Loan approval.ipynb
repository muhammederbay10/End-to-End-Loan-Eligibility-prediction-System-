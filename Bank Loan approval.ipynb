{
 "cells": [
  {
   "cell_type": "markdown",
   "id": "2ea94cd5",
   "metadata": {},
   "source": [
    "### 🎯 Loan Eligibility Prediction\n",
    "\n",
    "This project aims to predict whether a loan applicant is eligible based on personal and financial data. We use classification models (Logistic Regression, Decision Tree, Random Forest, SVC, XGBoost) and evaluate them using Recall, F1 score, and confusion matrix.\n"
   ]
  },
  {
   "cell_type": "code",
   "execution_count": 189,
   "id": "5c527456",
   "metadata": {},
   "outputs": [],
   "source": [
    "# Importing Data Analysis Libraries\n",
    "import pandas as pd \n",
    "import numpy as np "
   ]
  },
  {
   "cell_type": "code",
   "execution_count": 190,
   "id": "0063799d",
   "metadata": {},
   "outputs": [
    {
     "name": "stdout",
     "output_type": "stream",
     "text": [
      "    Loan_ID Gender Married Dependents     Education Self_Employed  \\\n",
      "0  LP001015   Male     Yes          0      Graduate            No   \n",
      "1  LP001022   Male     Yes          1      Graduate            No   \n",
      "2  LP001031   Male     Yes          2      Graduate            No   \n",
      "3  LP001035   Male     Yes          2      Graduate            No   \n",
      "4  LP001051   Male      No          0  Not Graduate            No   \n",
      "\n",
      "   ApplicantIncome  CoapplicantIncome  LoanAmount  Loan_Amount_Term  \\\n",
      "0             5720                  0       110.0             360.0   \n",
      "1             3076               1500       126.0             360.0   \n",
      "2             5000               1800       208.0             360.0   \n",
      "3             2340               2546       100.0             360.0   \n",
      "4             3276                  0        78.0             360.0   \n",
      "\n",
      "   Credit_History Property_Area  \n",
      "0             1.0         Urban  \n",
      "1             1.0         Urban  \n",
      "2             1.0         Urban  \n",
      "3             NaN         Urban  \n",
      "4             1.0         Urban  \n"
     ]
    },
    {
     "data": {
      "text/html": [
       "<div>\n",
       "<style scoped>\n",
       "    .dataframe tbody tr th:only-of-type {\n",
       "        vertical-align: middle;\n",
       "    }\n",
       "\n",
       "    .dataframe tbody tr th {\n",
       "        vertical-align: top;\n",
       "    }\n",
       "\n",
       "    .dataframe thead th {\n",
       "        text-align: right;\n",
       "    }\n",
       "</style>\n",
       "<table border=\"1\" class=\"dataframe\">\n",
       "  <thead>\n",
       "    <tr style=\"text-align: right;\">\n",
       "      <th></th>\n",
       "      <th>Loan_ID</th>\n",
       "      <th>Gender</th>\n",
       "      <th>Married</th>\n",
       "      <th>Dependents</th>\n",
       "      <th>Education</th>\n",
       "      <th>Self_Employed</th>\n",
       "      <th>ApplicantIncome</th>\n",
       "      <th>CoapplicantIncome</th>\n",
       "      <th>LoanAmount</th>\n",
       "      <th>Loan_Amount_Term</th>\n",
       "      <th>Credit_History</th>\n",
       "      <th>Property_Area</th>\n",
       "      <th>Loan_Status</th>\n",
       "    </tr>\n",
       "  </thead>\n",
       "  <tbody>\n",
       "    <tr>\n",
       "      <th>609</th>\n",
       "      <td>LP002978</td>\n",
       "      <td>Female</td>\n",
       "      <td>No</td>\n",
       "      <td>0</td>\n",
       "      <td>Graduate</td>\n",
       "      <td>No</td>\n",
       "      <td>2900</td>\n",
       "      <td>0.0</td>\n",
       "      <td>71.0</td>\n",
       "      <td>360.0</td>\n",
       "      <td>1.0</td>\n",
       "      <td>Rural</td>\n",
       "      <td>Y</td>\n",
       "    </tr>\n",
       "    <tr>\n",
       "      <th>610</th>\n",
       "      <td>LP002979</td>\n",
       "      <td>Male</td>\n",
       "      <td>Yes</td>\n",
       "      <td>3+</td>\n",
       "      <td>Graduate</td>\n",
       "      <td>No</td>\n",
       "      <td>4106</td>\n",
       "      <td>0.0</td>\n",
       "      <td>40.0</td>\n",
       "      <td>180.0</td>\n",
       "      <td>1.0</td>\n",
       "      <td>Rural</td>\n",
       "      <td>Y</td>\n",
       "    </tr>\n",
       "    <tr>\n",
       "      <th>611</th>\n",
       "      <td>LP002983</td>\n",
       "      <td>Male</td>\n",
       "      <td>Yes</td>\n",
       "      <td>1</td>\n",
       "      <td>Graduate</td>\n",
       "      <td>No</td>\n",
       "      <td>8072</td>\n",
       "      <td>240.0</td>\n",
       "      <td>253.0</td>\n",
       "      <td>360.0</td>\n",
       "      <td>1.0</td>\n",
       "      <td>Urban</td>\n",
       "      <td>Y</td>\n",
       "    </tr>\n",
       "    <tr>\n",
       "      <th>612</th>\n",
       "      <td>LP002984</td>\n",
       "      <td>Male</td>\n",
       "      <td>Yes</td>\n",
       "      <td>2</td>\n",
       "      <td>Graduate</td>\n",
       "      <td>No</td>\n",
       "      <td>7583</td>\n",
       "      <td>0.0</td>\n",
       "      <td>187.0</td>\n",
       "      <td>360.0</td>\n",
       "      <td>1.0</td>\n",
       "      <td>Urban</td>\n",
       "      <td>Y</td>\n",
       "    </tr>\n",
       "    <tr>\n",
       "      <th>613</th>\n",
       "      <td>LP002990</td>\n",
       "      <td>Female</td>\n",
       "      <td>No</td>\n",
       "      <td>0</td>\n",
       "      <td>Graduate</td>\n",
       "      <td>Yes</td>\n",
       "      <td>4583</td>\n",
       "      <td>0.0</td>\n",
       "      <td>133.0</td>\n",
       "      <td>360.0</td>\n",
       "      <td>0.0</td>\n",
       "      <td>Semiurban</td>\n",
       "      <td>N</td>\n",
       "    </tr>\n",
       "  </tbody>\n",
       "</table>\n",
       "</div>"
      ],
      "text/plain": [
       "      Loan_ID  Gender Married Dependents Education Self_Employed  \\\n",
       "609  LP002978  Female      No          0  Graduate            No   \n",
       "610  LP002979    Male     Yes         3+  Graduate            No   \n",
       "611  LP002983    Male     Yes          1  Graduate            No   \n",
       "612  LP002984    Male     Yes          2  Graduate            No   \n",
       "613  LP002990  Female      No          0  Graduate           Yes   \n",
       "\n",
       "     ApplicantIncome  CoapplicantIncome  LoanAmount  Loan_Amount_Term  \\\n",
       "609             2900                0.0        71.0             360.0   \n",
       "610             4106                0.0        40.0             180.0   \n",
       "611             8072              240.0       253.0             360.0   \n",
       "612             7583                0.0       187.0             360.0   \n",
       "613             4583                0.0       133.0             360.0   \n",
       "\n",
       "     Credit_History Property_Area Loan_Status  \n",
       "609             1.0         Rural           Y  \n",
       "610             1.0         Rural           Y  \n",
       "611             1.0         Urban           Y  \n",
       "612             1.0         Urban           Y  \n",
       "613             0.0     Semiurban           N  "
      ]
     },
     "execution_count": 190,
     "metadata": {},
     "output_type": "execute_result"
    }
   ],
   "source": [
    "## Load the dataset\n",
    "df = pd.read_csv(\"../Bank loan eligibility prediction/Data/loan-train.csv\")\n",
    "df_test = pd.read_csv(\"../Bank loan eligibility prediction/Data/loan-test.csv\")\n",
    "\n",
    "print(df_test.head())\n",
    "df.tail()"
   ]
  },
  {
   "cell_type": "code",
   "execution_count": 191,
   "id": "db2047ee",
   "metadata": {},
   "outputs": [],
   "source": [
    "# Dropping unnecessary columns\n",
    "df = df.drop('Loan_ID', axis=1)"
   ]
  },
  {
   "cell_type": "code",
   "execution_count": 192,
   "id": "15e0b5d7",
   "metadata": {},
   "outputs": [
    {
     "data": {
      "text/plain": [
       "Gender               13\n",
       "Married               3\n",
       "Dependents           15\n",
       "Education             0\n",
       "Self_Employed        32\n",
       "ApplicantIncome       0\n",
       "CoapplicantIncome     0\n",
       "LoanAmount           22\n",
       "Loan_Amount_Term     14\n",
       "Credit_History       50\n",
       "Property_Area         0\n",
       "Loan_Status           0\n",
       "dtype: int64"
      ]
     },
     "execution_count": 192,
     "metadata": {},
     "output_type": "execute_result"
    }
   ],
   "source": [
    "# Check for missing values\n",
    "df.isnull().sum()"
   ]
  },
  {
   "cell_type": "code",
   "execution_count": 193,
   "id": "9723cd9a",
   "metadata": {},
   "outputs": [
    {
     "data": {
      "image/png": "[encoded data removed]",
      "text/plain": [
       "<Figure size 1800x4000 with 7 Axes>"
      ]
     },
     "metadata": {},
     "output_type": "display_data"
    }
   ],
   "source": [
    "%matplotlib inline\n",
    "import matplotlib.pyplot as plt\n",
    "import seaborn as sns\n",
    "\n",
    "# Visualize the distribution of categorical features\n",
    "sns.set_style('darkgrid')\n",
    "sns.set_palette('tab10')\n",
    "\n",
    "obj = (df.dtypes == 'object')\n",
    "categorical_cols = list(obj[obj].index)\n",
    "plt.figure(figsize=(18, 40))\n",
    "index = 1\n",
    "\n",
    "for col in categorical_cols:\n",
    "    y = df[col].value_counts()\n",
    "    plt.subplot(11, 4, index)\n",
    "    plt.xticks(rotation=90)\n",
    "    plt.subplots_adjust(hspace=0.6, wspace=0.25) \n",
    "    sns.barplot(x = list(y.index), y = y).set_title(col)\n",
    "    index += 1\n"
   ]
  },
  {
   "cell_type": "code",
   "execution_count": 194,
   "id": "62765365",
   "metadata": {},
   "outputs": [
    {
     "data": {
      "image/png": "[encoded data removed]",
      "text/plain": [
       "<Figure size 1000x600 with 1 Axes>"
      ]
     },
     "metadata": {},
     "output_type": "display_data"
    }
   ],
   "source": [
    "# Comparing the LoanAmount With the ApplicantIncome\n",
    "df['IncomeGroup'] = pd.cut(df['ApplicantIncome'], bins=5, labels=['Low', 'Lower-Mid', 'Mid', 'Upper-Mid', 'High'])\n",
    "\n",
    "color = {\n",
    "    'Low': 'red',\n",
    "    'Lower-Mid': 'orange',\n",
    "    'Mid': 'yellow',\n",
    "    'Upper-Mid': 'green',\n",
    "    'High': 'blue'  \n",
    "}\n",
    "\n",
    "plt.figure(figsize=(10, 6))\n",
    "\n",
    "for group in df['IncomeGroup'].unique():\n",
    "    group_data = df[df['IncomeGroup'] == group]\n",
    "    plt.scatter(group_data['ApplicantIncome'], group_data['LoanAmount'],\n",
    "                 color=color[group], label=group, alpha=0.7)\n",
    "                 \n",
    "plt.xlabel('Applicant Income')\n",
    "plt.ylabel('Loan Amount')\n",
    "plt.title('Loan Amount vs Applicant Income by Income Group')\n",
    "plt.legend(title='Income Group')\n",
    "plt.grid(True)\n",
    "plt.show()\n"
   ]
  },
  {
   "cell_type": "code",
   "execution_count": 195,
   "id": "74826765",
   "metadata": {},
   "outputs": [
    {
     "data": {
      "application/vnd.jupyter.widget-view+json": {
       "model_id": "461e545a35fe4f9cb1e412454e574add",
       "version_major": 2,
       "version_minor": 0
      },
      "text/plain": [
       "Summarize dataset:   0%|          | 0/5 [00:00<?, ?it/s]"
      ]
     },
     "metadata": {},
     "output_type": "display_data"
    },
    {
     "name": "stderr",
     "output_type": "stream",
     "text": [
      "100%|██████████| 13/13 [00:00<00:00, 922.50it/s]\n"
     ]
    },
    {
     "data": {
      "application/vnd.jupyter.widget-view+json": {
       "model_id": "3f6b1dff4f144362b7230cf46587ca44",
       "version_major": 2,
       "version_minor": 0
      },
      "text/plain": [
       "Generate report structure:   0%|          | 0/1 [00:00<?, ?it/s]"
      ]
     },
     "metadata": {},
     "output_type": "display_data"
    },
    {
     "data": {
      "application/vnd.jupyter.widget-view+json": {
       "model_id": "8ad51b01f8804e0ab04a06fed18f377b",
       "version_major": 2,
       "version_minor": 0
      },
      "text/plain": [
       "Render widgets:   0%|          | 0/1 [00:00<?, ?it/s]"
      ]
     },
     "metadata": {},
     "output_type": "display_data"
    },
    {
     "data": {
      "application/vnd.jupyter.widget-view+json": {
       "model_id": "1e8f07ae293946dbbc3640ab2cd7ea1e",
       "version_major": 2,
       "version_minor": 0
      },
      "text/plain": [
       "VBox(children=(Tab(children=(Tab(children=(GridBox(children=(VBox(children=(GridspecLayout(children=(HTML(valu…"
      ]
     },
     "metadata": {},
     "output_type": "display_data"
    }
   ],
   "source": [
    "# Most of the Eda needed with Profile Report\n",
    "from ydata_profiling import ProfileReport\n",
    "profile = ProfileReport(df, title=\"Profiling report\")\n",
    "profile.to_widgets()\n",
    "\n"
   ]
  },
  {
   "cell_type": "code",
   "execution_count": 196,
   "id": "79f9cf87",
   "metadata": {},
   "outputs": [
    {
     "data": {
      "text/plain": [
       "Gender                 object\n",
       "Married                object\n",
       "Dependents             object\n",
       "Education              object\n",
       "Self_Employed          object\n",
       "ApplicantIncome         int64\n",
       "CoapplicantIncome     float64\n",
       "LoanAmount            float64\n",
       "Loan_Amount_Term      float64\n",
       "Credit_History        float64\n",
       "Property_Area          object\n",
       "Loan_Status            object\n",
       "IncomeGroup          category\n",
       "dtype: object"
      ]
     },
     "execution_count": 196,
     "metadata": {},
     "output_type": "execute_result"
    }
   ],
   "source": [
    "# Check the data types of the columns\n",
    "df.dtypes"
   ]
  },
  {
   "cell_type": "code",
   "execution_count": 197,
   "id": "9a85f72a",
   "metadata": {},
   "outputs": [
    {
     "data": {
      "text/plain": [
       "array(['Urban', 'Rural', 'Semiurban'], dtype=object)"
      ]
     },
     "execution_count": 197,
     "metadata": {},
     "output_type": "execute_result"
    }
   ],
   "source": [
    "df['Property_Area'].unique()"
   ]
  },
  {
   "cell_type": "code",
   "execution_count": 198,
   "id": "4ec686dd",
   "metadata": {},
   "outputs": [
    {
     "data": {
      "text/plain": [
       "Index(['Gender', 'Married', 'Dependents', 'Education', 'Self_Employed',\n",
       "       'Property_Area', 'Loan_Status'],\n",
       "      dtype='object')"
      ]
     },
     "execution_count": 198,
     "metadata": {},
     "output_type": "execute_result"
    }
   ],
   "source": [
    "# Check the Object columns in the dataset\n",
    "df.select_dtypes(include=['object']).columns"
   ]
  },
  {
   "cell_type": "code",
   "execution_count": 199,
   "id": "570e5753",
   "metadata": {},
   "outputs": [
    {
     "data": {
      "text/plain": [
       "Index(['ApplicantIncome', 'CoapplicantIncome', 'LoanAmount',\n",
       "       'Loan_Amount_Term', 'Credit_History'],\n",
       "      dtype='object')"
      ]
     },
     "execution_count": 199,
     "metadata": {},
     "output_type": "execute_result"
    }
   ],
   "source": [
    "# Check the Numeric columns in the dataset\n",
    "df.select_dtypes(include=['int64', 'float64']).columns"
   ]
  },
  {
   "cell_type": "code",
   "execution_count": 200,
   "id": "4c55f006",
   "metadata": {},
   "outputs": [],
   "source": [
    "# Separate features (X) and target variable (y)\n",
    "x = df.drop('Loan_Status', axis=1)\n",
    "y = df['Loan_Status']"
   ]
  },
  {
   "cell_type": "code",
   "execution_count": 201,
   "id": "197d610c",
   "metadata": {},
   "outputs": [],
   "source": [
    "# Convert categorical variables to numerical using one-hot encoding\n",
    "num_cols = ['ApplicantIncome', 'CoapplicantIncome', 'LoanAmount',\n",
    "            'Loan_Amount_Term', 'Credit_History']\n",
    "cat_cols = ['Gender', 'Married', 'Dependents', 'Education',\n",
    "             'Self_Employed', 'Property_Area']"
   ]
  },
  {
   "cell_type": "code",
   "execution_count": 202,
   "id": "2f99a869",
   "metadata": {},
   "outputs": [
    {
     "name": "stdout",
     "output_type": "stream",
     "text": [
      "Numeric columns: ['ApplicantIncome', 'CoapplicantIncome', 'LoanAmount', 'Loan_Amount_Term', 'Credit_History']\n",
      "Categorical columns: ['Gender', 'Married', 'Dependents', 'Education', 'Self_Employed', 'Property_Area']\n",
      "Total columns: 11\n"
     ]
    }
   ],
   "source": [
    "# Display numeric and categorical columns along with the total column count\n",
    "print(\"Numeric columns:\", num_cols)\n",
    "print(\"Categorical columns:\", cat_cols)\n",
    "print(\"Total columns:\", len(num_cols) + len(cat_cols))\n"
   ]
  },
  {
   "cell_type": "code",
   "execution_count": 203,
   "id": "950e39cb",
   "metadata": {},
   "outputs": [],
   "source": [
    "# importing necessary libraries for model building\n",
    "from sklearn.pipeline import Pipeline\n",
    "from sklearn.impute import SimpleImputer\n",
    "from sklearn.preprocessing import OneHotEncoder, FunctionTransformer, LabelEncoder, StandardScaler\n",
    "from sklearn.compose import ColumnTransformer\n",
    "from custom_transformers import convert_to_df\n",
    "from sklearn.tree import DecisionTreeClassifier\n",
    "from sklearn.ensemble import RandomForestClassifier\n",
    "from sklearn.linear_model import LogisticRegression\n",
    "from sklearn.svm import SVC\n",
    "from xgboost import XGBClassifier\n",
    "\n",
    "np.random.seed(42)\n",
    "\n",
    "# Define the imputer for numeric and categorical columns\n",
    "imputer = ColumnTransformer([\n",
    "    ('num_imputer', SimpleImputer(strategy='mean'), num_cols),\n",
    "    ('cat_imputer', SimpleImputer(strategy='most_frequent'), cat_cols)\n",
    "    ],remainder='drop')\n",
    "\n",
    "fe = FunctionTransformer()\n",
    "\n",
    "# Define the categorical features and the encoder\n",
    "le = LabelEncoder()\n",
    "onehot_encoder = OneHotEncoder(handle_unknown='ignore')\n",
    "transformed = ColumnTransformer(\n",
    "     transformers =  [(\"onehot_encoder\",\n",
    "                       onehot_encoder,\n",
    "                         cat_cols)],\n",
    "                           remainder='passthrough')\n",
    "\n",
    "all_cols = num_cols + cat_cols\n",
    "\n",
    "# Function to convert numpy array to DataFrame\n",
    "def convert_to_df(arr, columns):\n",
    "    return pd.DataFrame(arr, columns=columns)\n",
    "\n",
    "# Building Decision Tree model\n",
    "dt_model = Pipeline(steps=[\n",
    "    ('imputer', imputer),\n",
    "    ('to_df', FunctionTransformer(convert_to_df, kw_args={'columns': num_cols + cat_cols})),  \n",
    "    ('fe', fe),     \n",
    "    ('encoder', transformed),\n",
    "    ('model', DecisionTreeClassifier(\n",
    "        max_depth=5,\n",
    "        min_samples_split=5,\n",
    "        min_samples_leaf=4,\n",
    "        random_state=42,\n",
    "    )),\n",
    "])\n",
    "\n",
    "# Building Random Forest model\n",
    "rf_model = Pipeline(steps=[\n",
    "    ('imputer', imputer),\n",
    "    ('to_df', FunctionTransformer(convert_to_df, kw_args={'columns': num_cols + cat_cols})),\n",
    "    ('fe', fe),     \n",
    "    ('encoder', transformed),\n",
    "    ('model', RandomForestClassifier(\n",
    "        max_depth=3,\n",
    "        min_samples_split=4,\n",
    "        min_samples_leaf=5,\n",
    "        class_weight='balanced',\n",
    "        random_state=42)),\n",
    "])\n",
    "\n",
    "# Building Logistic Regression model\n",
    "log_r_model = Pipeline(steps=[\n",
    "    ('imputer', imputer),\n",
    "    ('to_df', FunctionTransformer(convert_to_df, kw_args={'columns': num_cols + cat_cols})),\n",
    "    ('fe', fe),     \n",
    "    ('encoder', transformed),\n",
    "    ('scalar', StandardScaler()),\n",
    "    ('model', LogisticRegression(\n",
    "        max_iter=1000,\n",
    "        C=0.1, \n",
    "        penalty='l1',\n",
    "        solver='liblinear',\n",
    "        random_state=42,\n",
    "    )),\n",
    "])\n",
    "\n",
    "# Building SVC model\n",
    "svc_model = Pipeline(steps=[\n",
    "    ('imputer', imputer),\n",
    "    ('to_df', FunctionTransformer(convert_to_df, kw_args={'columns': num_cols + cat_cols})), \n",
    "    ('fe', fe),     \n",
    "    ('encoder', transformed),\n",
    "    ('scaler', StandardScaler(with_mean=False)),\n",
    "    ('model', SVC(\n",
    "        C=1,\n",
    "        gamma='scale',\n",
    "        kernel='rbf',\n",
    "        class_weight='balanced',\n",
    "        random_state=42,\n",
    "    )),\n",
    "])\n",
    "\n",
    "# Building XGBoost model\n",
    "xboost_model = Pipeline(steps=[\n",
    "    ('imputer', imputer),\n",
    "    ('to_df', FunctionTransformer(convert_to_df, kw_args={'columns': num_cols + cat_cols})),\n",
    "    ('fe', fe),     \n",
    "    ('encoder', transformed),\n",
    "    ('model', XGBClassifier(\n",
    "        colsample_bytree=0.9,\n",
    "        max_depth=3,\n",
    "        min_child_weight=10,\n",
    "        n_estimators=100,\n",
    "        subsample=0.9,\n",
    "    )),\n",
    "])\n",
    "\n",
    "\n",
    "\n",
    "x = df.drop('Loan_Status', axis=1)\n",
    "y = le.fit_transform(df['Loan_Status'])\n",
    "\n",
    "# Prepare test features (no target column)\n",
    "x_test = df_test.copy()\n"
   ]
  },
  {
   "cell_type": "code",
   "execution_count": 204,
   "id": "be03fc2e",
   "metadata": {},
   "outputs": [
    {
     "name": "stdout",
     "output_type": "stream",
     "text": [
      "Best parameters for Decision Tree: {'model__max_depth': 3, 'model__max_features': None, 'model__min_samples_leaf': 4, 'model__min_samples_split': 20}\n",
      "Best parameters for Random forest: {'model__max_depth': 3, 'model__min_samples_leaf': 2, 'model__min_samples_split': 5, 'model__n_estimators': 100}\n",
      "Best parameters for Logistic Regression: {'model__C': 0.1, 'model__penalty': 'l1', 'model__solver': 'liblinear'}\n",
      "Best parameters for SVC: {'model__C': 0.1, 'model__gamma': 'scale', 'model__kernel': 'poly'}\n",
      "Best parameters for XGBoost: {'model__colsample_bytree': 0.8, 'model__max_depth': 3, 'model__min_child_weight': 5, 'model__n_estimators': 100, 'model__subsample': 0.9}\n"
     ]
    }
   ],
   "source": [
    "from sklearn.model_selection import train_test_split,cross_val_score, GridSearchCV\n",
    "from sklearn.metrics import accuracy_score, classification_report, confusion_matrix, f1_score, precision_score, recall_score\n",
    "import warnings\n",
    "warnings.filterwarnings(\"ignore\", category=UserWarning)\n",
    "warnings.filterwarnings(\"ignore\", category=FutureWarning)\n",
    "\n",
    "# Splitting the dataset into training and validation sets\n",
    "x_train, x_val, y_train, y_val = train_test_split(x, y, test_size=0.2, stratify=y, random_state=42)\n",
    "\n",
    "# Defining the parameter grid for hyperparameter tuning\n",
    "# Decision Tree Classifier\n",
    "param_grid_dt = {\n",
    "    'model__max_depth': [3, 5, 7, 10],  \n",
    "    'model__min_samples_split': [5, 10, 20],  \n",
    "    'model__min_samples_leaf': [2, 4, 5],  \n",
    "    'model__max_features': [None, 'sqrt', 'log2']  \n",
    "}\n",
    "\n",
    "grid_search_dt = GridSearchCV(\n",
    "    estimator=dt_model,\n",
    "      param_grid=param_grid_dt,\n",
    "        cv=5,\n",
    "          scoring = 'f1',\n",
    "          n_jobs=1)\n",
    "\n",
    "grid_search_dt.fit(x_train, y_train)\n",
    "best_model_dt = grid_search_dt.best_estimator_\n",
    "print(\"Best parameters for Decision Tree:\", grid_search_dt.best_params_)\n",
    "\n",
    "# Random Forest Classifier\n",
    "param_grid_rf = {\n",
    "    'model__n_estimators': [100, 150],\n",
    "    'model__max_depth': [3, 4, 5],\n",
    "    'model__min_samples_split': [5, 10],\n",
    "    'model__min_samples_leaf': [2, 4],\n",
    "}\n",
    "\n",
    "grid_search = GridSearchCV(\n",
    "    estimator=rf_model,\n",
    "      param_grid=param_grid_rf,\n",
    "        cv=5,\n",
    "          scoring = 'f1')\n",
    "\n",
    "grid_search.fit(x_train, y_train)\n",
    "best_model = grid_search.best_estimator_\n",
    "print(\"Best parameters for Random forest:\", grid_search.best_params_)\n",
    "\n",
    "# Logistic Regression Classifier\n",
    "param_grid_log_r = {\n",
    "    'model__C': [0.01, 0.1, 1, 10],\n",
    "    'model__penalty': ['l1', 'l2'],\n",
    "    'model__solver': ['liblinear'],\n",
    "}\n",
    "\n",
    "grid_search_log_r = GridSearchCV(\n",
    "    estimator=log_r_model,\n",
    "      param_grid=param_grid_log_r,\n",
    "        cv=5,\n",
    "          scoring = 'f1',\n",
    "          n_jobs=1)\n",
    "\n",
    "grid_search_log_r.fit(x_train, y_train)\n",
    "best_model_log_r = grid_search_log_r.best_estimator_\n",
    "print(\"Best parameters for Logistic Regression:\", grid_search_log_r.best_params_)\n",
    "\n",
    "# SVC Classifier\n",
    "param_grid_svc = {\n",
    "    'model__C': [0.1, 1, 10],\n",
    "    'model__kernel': ['linear', 'rbf', 'poly'],\n",
    "    'model__gamma': ['scale', 'auto'],\n",
    "}\n",
    "grid_search_svc = GridSearchCV(\n",
    "    estimator=svc_model,\n",
    "      param_grid=param_grid_svc,\n",
    "        cv=5,\n",
    "          scoring = 'f1',\n",
    "          n_jobs=1)\n",
    "\n",
    "grid_search_svc.fit(x_train, y_train)\n",
    "best_model_svc = grid_search_svc.best_estimator_\n",
    "print(\"Best parameters for SVC:\", grid_search_svc.best_params_)\n",
    "\n",
    "# XGBoost Classifier\n",
    "param_grid_xgboost = {\n",
    "    'model__n_estimators': [100, 150, 200],\n",
    "    'model__max_depth': [3, 5, 7],\n",
    "    'model__min_child_weight': [1, 5, 10],\n",
    "    'model__subsample': [0.7, 0.8, 0.9],\n",
    "    'model__colsample_bytree': [0.7, 0.8, 0.9]\n",
    "}\n",
    "grid_search_xgboost = GridSearchCV(\n",
    "    estimator=xboost_model,\n",
    "      param_grid=param_grid_xgboost,\n",
    "        cv=5,\n",
    "          scoring = 'f1',\n",
    "          n_jobs=1)\n",
    "\n",
    "grid_search_xgboost.fit(x_train, y_train,)\n",
    "best_model_xgboost = grid_search_xgboost.best_estimator_\n",
    "print(\"Best parameters for XGBoost:\", grid_search_xgboost.best_params_)\n"
   ]
  },
  {
   "cell_type": "code",
   "execution_count": 205,
   "id": "a9eb776a",
   "metadata": {},
   "outputs": [
    {
     "name": "stdout",
     "output_type": "stream",
     "text": [
      "Index(['Gender', 'Married', 'Dependents', 'Education', 'Self_Employed',\n",
      "       'ApplicantIncome', 'CoapplicantIncome', 'LoanAmount',\n",
      "       'Loan_Amount_Term', 'Credit_History', 'Property_Area', 'IncomeGroup'],\n",
      "      dtype='object')\n",
      "Index(['Loan_ID', 'Gender', 'Married', 'Dependents', 'Education',\n",
      "       'Self_Employed', 'ApplicantIncome', 'CoapplicantIncome', 'LoanAmount',\n",
      "       'Loan_Amount_Term', 'Credit_History', 'Property_Area'],\n",
      "      dtype='object')\n"
     ]
    }
   ],
   "source": [
    "# Defining the Columns of our dataset\n",
    "print(x_train.columns)\n",
    "print(x_test.columns)"
   ]
  },
  {
   "cell_type": "markdown",
   "id": "78b357cf",
   "metadata": {},
   "source": [
    "### Desicion Tree Model"
   ]
  },
  {
   "cell_type": "code",
   "execution_count": 206,
   "id": "95e98928",
   "metadata": {},
   "outputs": [
    {
     "name": "stdout",
     "output_type": "stream",
     "text": [
      "The decisiontree score:\n"
     ]
    },
    {
     "data": {
      "text/plain": [
       "0.8130081300813008"
      ]
     },
     "execution_count": 206,
     "metadata": {},
     "output_type": "execute_result"
    }
   ],
   "source": [
    "# Fitting the Decision Tree model\n",
    "print(\"The decisiontree score:\")\n",
    "dt_model.fit(x_train, y_train)\n",
    "\n",
    "# Prediction for train and test data\n",
    "y_train_pred = dt_model.predict(x_train)\n",
    "y_val_pred = dt_model.predict(x_val)\n",
    "# Accuracy score for train and test data\n",
    "dt_model.score(x_val, y_val)"
   ]
  },
  {
   "cell_type": "code",
   "execution_count": 207,
   "id": "5d8ec2b7",
   "metadata": {},
   "outputs": [
    {
     "name": "stdout",
     "output_type": "stream",
     "text": [
      "Classification report for Decision Tree:\n",
      "              precision    recall  f1-score   support\n",
      "\n",
      "           0       0.80      0.53      0.63        38\n",
      "           1       0.82      0.94      0.87        85\n",
      "\n",
      "    accuracy                           0.81       123\n",
      "   macro avg       0.81      0.73      0.75       123\n",
      "weighted avg       0.81      0.81      0.80       123\n",
      "\n"
     ]
    }
   ],
   "source": [
    "# Classification report for Decision Tree\n",
    "print(\"Classification report for Decision Tree:\")\n",
    "print(classification_report(y_val,y_val_pred))"
   ]
  },
  {
   "cell_type": "code",
   "execution_count": 208,
   "id": "bc393484",
   "metadata": {},
   "outputs": [
    {
     "name": "stdout",
     "output_type": "stream",
     "text": [
      "Cross-validation scores For Desicion Tree: [0.85135135 0.85517241 0.86486486 0.81632653 0.82119205]\n",
      "Mean cross-validation score For Desicion Tree: 0.8417814427203394\n"
     ]
    }
   ],
   "source": [
    "# Cross-validation for Decision Tree\n",
    "cv_scores = cross_val_score(dt_model, x_train, y_train, cv=5, scoring='f1')\n",
    "print(f\"Cross-validation scores For Desicion Tree: {cv_scores}\")\n",
    "print(f\"Mean cross-validation score For Desicion Tree: {cv_scores.mean()}\")"
   ]
  },
  {
   "cell_type": "code",
   "execution_count": 209,
   "id": "25508039",
   "metadata": {},
   "outputs": [
    {
     "name": "stdout",
     "output_type": "stream",
     "text": [
      "Confusion matrix for Decision Tree:\n",
      "[[20 18]\n",
      " [ 5 80]]\n"
     ]
    }
   ],
   "source": [
    "# Confusing the Decision Tree model\n",
    "print(\"Confusion matrix for Decision Tree:\")\n",
    "conf_matrix = confusion_matrix(y_val, y_val_pred)\n",
    "print(conf_matrix)\n"
   ]
  },
  {
   "cell_type": "code",
   "execution_count": 210,
   "id": "9c2790ee",
   "metadata": {},
   "outputs": [
    {
     "name": "stdout",
     "output_type": "stream",
     "text": [
      "Training Set Performance For Desicion Tree:\n",
      "Accuracy: 0.8228105906313645\n",
      "Precision: 0.8063725490196079\n",
      "Recall: 0.9762611275964391\n",
      "F1 Score: 0.8832214765100671\n",
      "\n",
      "Test Set Performance For Desicion Tree:\n",
      "Accuracy: 0.8130081300813008\n",
      "Precision: 0.8163265306122449\n",
      "Recall: 0.9411764705882353\n",
      "F1 Score: 0.8743169398907104\n"
     ]
    }
   ],
   "source": [
    "# Training set performance\n",
    "train_accuracy = accuracy_score(y_train, y_train_pred)\n",
    "train_precision = precision_score(y_train, y_train_pred)\n",
    "train_recall = recall_score(y_train, y_train_pred)\n",
    "train_f1 = f1_score(y_train, y_train_pred)\n",
    "\n",
    "# Test set performance\n",
    "test_accuracy = accuracy_score(y_val, y_val_pred)\n",
    "test_precision = precision_score(y_val, y_val_pred)\n",
    "test_recall = recall_score(y_val, y_val_pred)\n",
    "test_f1 = f1_score(y_val, y_val_pred)\n",
    "\n",
    "# Print the results\n",
    "print(\"Training Set Performance For Desicion Tree:\")\n",
    "print(f\"Accuracy: {train_accuracy}\")\n",
    "print(f\"Precision: {train_precision}\")\n",
    "print(f\"Recall: {train_recall}\")\n",
    "print(f\"F1 Score: {train_f1}\")\n",
    "\n",
    "print(\"\\nTest Set Performance For Desicion Tree:\")\n",
    "print(f\"Accuracy: {test_accuracy}\")\n",
    "print(f\"Precision: {test_precision}\")\n",
    "print(f\"Recall: {test_recall}\")\n",
    "print(f\"F1 Score: {test_f1}\")\n"
   ]
  },
  {
   "cell_type": "code",
   "execution_count": 211,
   "id": "25e90178",
   "metadata": {},
   "outputs": [
    {
     "name": "stdout",
     "output_type": "stream",
     "text": [
      "(array([0, 1]), array([25, 98]))\n"
     ]
    }
   ],
   "source": [
    "predictions = dt_model.predict(x_val)\n",
    "print(np.unique(predictions, return_counts=True))"
   ]
  },
  {
   "cell_type": "markdown",
   "id": "9cc9d406",
   "metadata": {},
   "source": [
    "### Random Forest Model"
   ]
  },
  {
   "cell_type": "code",
   "execution_count": 212,
   "id": "96d6b91e",
   "metadata": {},
   "outputs": [
    {
     "name": "stdout",
     "output_type": "stream",
     "text": [
      "The RandomForest score:\n"
     ]
    },
    {
     "data": {
      "text/plain": [
       "0.8536585365853658"
      ]
     },
     "execution_count": 212,
     "metadata": {},
     "output_type": "execute_result"
    }
   ],
   "source": [
    "# Fitting The Random Forest model\n",
    "print(\"The RandomForest score:\")\n",
    "rf_model.fit(x_train, y_train)\n",
    "\n",
    "# Prediction for train and test data\n",
    "y_train_pred = rf_model.predict(x_train)\n",
    "y_val_pred = rf_model.predict(x_val)\n",
    "\n",
    "# Accuracy score for train and test data\n",
    "rf_model.score(x_val, y_val)"
   ]
  },
  {
   "cell_type": "code",
   "execution_count": 213,
   "id": "8bdfe6d1",
   "metadata": {},
   "outputs": [
    {
     "name": "stdout",
     "output_type": "stream",
     "text": [
      "Classification report for Random Forest:\n",
      "              precision    recall  f1-score   support\n",
      "\n",
      "           0       0.92      0.58      0.71        38\n",
      "           1       0.84      0.98      0.90        85\n",
      "\n",
      "    accuracy                           0.85       123\n",
      "   macro avg       0.88      0.78      0.81       123\n",
      "weighted avg       0.86      0.85      0.84       123\n",
      "\n"
     ]
    }
   ],
   "source": [
    "# Classification report for Random Forest\n",
    "print(\"Classification report for Random Forest:\")\n",
    "print(classification_report(y_val, y_val_pred))"
   ]
  },
  {
   "cell_type": "code",
   "execution_count": 214,
   "id": "4785a8d1",
   "metadata": {},
   "outputs": [
    {
     "name": "stdout",
     "output_type": "stream",
     "text": [
      "Cross-validation scores For Random Forest: [0.83561644 0.87248322 0.84931507 0.81632653 0.86666667]\n",
      "Mean cross-validation score For Random Forest: 0.8480815851209474\n"
     ]
    }
   ],
   "source": [
    "# Cross-validation for Random Forest\n",
    "cv_scores = cross_val_score(rf_model, x_train, y_train, cv=5, scoring='f1')\n",
    "print(f\"Cross-validation scores For Random Forest: {cv_scores}\")\n",
    "print(f\"Mean cross-validation score For Random Forest: {cv_scores.mean()}\")"
   ]
  },
  {
   "cell_type": "code",
   "execution_count": 215,
   "id": "af9d7d45",
   "metadata": {},
   "outputs": [
    {
     "name": "stdout",
     "output_type": "stream",
     "text": [
      "Confusion matrix for Random Forest:\n",
      "[[22 16]\n",
      " [ 2 83]]\n"
     ]
    }
   ],
   "source": [
    "# Confusing the Random Forest model\n",
    "print(\"Confusion matrix for Random Forest:\")\n",
    "conf_matrix = confusion_matrix(y_val, y_val_pred)\n",
    "print(conf_matrix)\n"
   ]
  },
  {
   "cell_type": "code",
   "execution_count": 216,
   "id": "4b13f59a",
   "metadata": {},
   "outputs": [
    {
     "name": "stdout",
     "output_type": "stream",
     "text": [
      "Training Set Performance For Random Forest:\n",
      "Accuracy: 0.8044806517311609\n",
      "Precision: 0.7903614457831325\n",
      "Recall: 0.973293768545994\n",
      "F1 Score: 0.8723404255319149\n",
      "\n",
      "Test Set Performance For Random Forest:\n",
      "Accuracy: 0.8536585365853658\n",
      "Precision: 0.8383838383838383\n",
      "Recall: 0.9764705882352941\n",
      "F1 Score: 0.9021739130434783\n"
     ]
    }
   ],
   "source": [
    "# Training set performance\n",
    "train_accuracy = accuracy_score(y_train, y_train_pred)\n",
    "train_precision = precision_score(y_train, y_train_pred)\n",
    "train_recall = recall_score(y_train, y_train_pred)\n",
    "train_f1 = f1_score(y_train, y_train_pred)\n",
    "\n",
    "# Test set performance\n",
    "test_accuracy = accuracy_score(y_val, y_val_pred)\n",
    "test_precision = precision_score(y_val, y_val_pred)\n",
    "test_recall = recall_score(y_val, y_val_pred)\n",
    "test_f1 = f1_score(y_val, y_val_pred)\n",
    "\n",
    "# Print the results\n",
    "print(\"Training Set Performance For Random Forest:\")\n",
    "print(f\"Accuracy: {train_accuracy}\")\n",
    "print(f\"Precision: {train_precision}\")\n",
    "print(f\"Recall: {train_recall}\")\n",
    "print(f\"F1 Score: {train_f1}\")\n",
    "\n",
    "print(\"\\nTest Set Performance For Random Forest:\")\n",
    "print(f\"Accuracy: {test_accuracy}\")\n",
    "print(f\"Precision: {test_precision}\")\n",
    "print(f\"Recall: {test_recall}\")\n",
    "print(f\"F1 Score: {test_f1}\")\n"
   ]
  },
  {
   "cell_type": "code",
   "execution_count": 217,
   "id": "18d7d5e0",
   "metadata": {},
   "outputs": [
    {
     "name": "stdout",
     "output_type": "stream",
     "text": [
      "(array([0, 1]), array([24, 99]))\n"
     ]
    }
   ],
   "source": [
    "predictions = rf_model.predict(x_val)\n",
    "print(np.unique(predictions, return_counts=True))\n"
   ]
  },
  {
   "cell_type": "markdown",
   "id": "696aef8a",
   "metadata": {},
   "source": [
    "### Logistic Regression Model"
   ]
  },
  {
   "cell_type": "code",
   "execution_count": 218,
   "id": "86592e2c",
   "metadata": {},
   "outputs": [
    {
     "name": "stdout",
     "output_type": "stream",
     "text": [
      "The Logistic Regression score:\n",
      "The decisiontree score:\n"
     ]
    },
    {
     "data": {
      "text/plain": [
       "0.8536585365853658"
      ]
     },
     "execution_count": 218,
     "metadata": {},
     "output_type": "execute_result"
    }
   ],
   "source": [
    "# Fittin the Logistic Regression model\n",
    "print(\"The Logistic Regression score:\")\n",
    "\n",
    "print(\"The decisiontree score:\")\n",
    "log_r_model.fit(x_train, y_train)\n",
    "\n",
    "# Prediction for train and test data\n",
    "y_train_pred = log_r_model.predict(x_train)\n",
    "y_val_pred = log_r_model.predict(x_val)\n",
    "\n",
    "# Accuracy score for train and test data\n",
    "log_r_model.score(x_val, y_val)"
   ]
  },
  {
   "cell_type": "code",
   "execution_count": 219,
   "id": "52d3d440",
   "metadata": {},
   "outputs": [
    {
     "name": "stdout",
     "output_type": "stream",
     "text": [
      "Classification report for Logistic Regression:\n",
      "              precision    recall  f1-score   support\n",
      "\n",
      "           0       0.95      0.55      0.70        38\n",
      "           1       0.83      0.99      0.90        85\n",
      "\n",
      "    accuracy                           0.85       123\n",
      "   macro avg       0.89      0.77      0.80       123\n",
      "weighted avg       0.87      0.85      0.84       123\n",
      "\n"
     ]
    }
   ],
   "source": [
    "# Classification Report for Logistic Regression\n",
    "print(\"Classification report for Logistic Regression:\")\n",
    "print(classification_report(y_val, y_val_pred))"
   ]
  },
  {
   "cell_type": "code",
   "execution_count": 220,
   "id": "ac84ef95",
   "metadata": {},
   "outputs": [
    {
     "name": "stdout",
     "output_type": "stream",
     "text": [
      "Cross-validation scores For Logistic Regression: [0.86842105 0.87581699 0.88       0.8627451  0.8627451 ]\n",
      "Mean cross-validation score For Logistic Regression: 0.8699456484348126\n"
     ]
    }
   ],
   "source": [
    "# Cross-validation for Logistic Regression\n",
    "cv_scores = cross_val_score(log_r_model, x_train, y_train, cv=5, scoring='f1')\n",
    "print(f\"Cross-validation scores For Logistic Regression: {cv_scores}\")\n",
    "print(f\"Mean cross-validation score For Logistic Regression: {cv_scores.mean()}\")"
   ]
  },
  {
   "cell_type": "code",
   "execution_count": 221,
   "id": "b4e47a22",
   "metadata": {},
   "outputs": [
    {
     "name": "stdout",
     "output_type": "stream",
     "text": [
      "Confusion matrix for Logistic Regression:\n",
      "[[21 17]\n",
      " [ 1 84]]\n"
     ]
    }
   ],
   "source": [
    "# Confusing the Random Logistic Regression model\n",
    "print(\"Confusion matrix for Logistic Regression:\")\n",
    "conf_matrix = confusion_matrix(y_val, y_val_pred)\n",
    "print(conf_matrix)\n"
   ]
  },
  {
   "cell_type": "code",
   "execution_count": 222,
   "id": "03509f93",
   "metadata": {},
   "outputs": [
    {
     "name": "stdout",
     "output_type": "stream",
     "text": [
      "Training Set Performance For Logistic Regression:\n",
      "Accuracy: 0.7983706720977597\n",
      "Precision: 0.7806603773584906\n",
      "Recall: 0.9821958456973294\n",
      "F1 Score: 0.8699080157687253\n",
      "\n",
      "Test Set Performance For Logistic Regression:\n",
      "Accuracy: 0.8536585365853658\n",
      "Precision: 0.8316831683168316\n",
      "Recall: 0.9882352941176471\n",
      "F1 Score: 0.9032258064516129\n"
     ]
    }
   ],
   "source": [
    "# Training set performance\n",
    "train_accuracy = accuracy_score(y_train, y_train_pred)\n",
    "train_precision = precision_score(y_train, y_train_pred)\n",
    "train_recall = recall_score(y_train, y_train_pred)\n",
    "train_f1 = f1_score(y_train, y_train_pred)\n",
    "\n",
    "# Test set performance\n",
    "test_accuracy = accuracy_score(y_val, y_val_pred)\n",
    "test_precision = precision_score(y_val, y_val_pred)\n",
    "test_recall = recall_score(y_val, y_val_pred)\n",
    "test_f1 = f1_score(y_val, y_val_pred)\n",
    "\n",
    "# Print the results\n",
    "print(\"Training Set Performance For Logistic Regression:\")\n",
    "print(f\"Accuracy: {train_accuracy}\")\n",
    "print(f\"Precision: {train_precision}\")\n",
    "print(f\"Recall: {train_recall}\")\n",
    "print(f\"F1 Score: {train_f1}\")\n",
    "\n",
    "print(\"\\nTest Set Performance For Logistic Regression:\")\n",
    "print(f\"Accuracy: {test_accuracy}\")\n",
    "print(f\"Precision: {test_precision}\")\n",
    "print(f\"Recall: {test_recall}\")\n",
    "print(f\"F1 Score: {test_f1}\")\n"
   ]
  },
  {
   "cell_type": "code",
   "execution_count": 223,
   "id": "ba8403f9",
   "metadata": {},
   "outputs": [
    {
     "name": "stdout",
     "output_type": "stream",
     "text": [
      "(array([0, 1]), array([ 22, 101]))\n"
     ]
    }
   ],
   "source": [
    "predictions = log_r_model.predict(x_val)\n",
    "print(np.unique(predictions, return_counts=True))"
   ]
  },
  {
   "cell_type": "markdown",
   "id": "4d6d9225",
   "metadata": {},
   "source": [
    "### Svc Model"
   ]
  },
  {
   "cell_type": "code",
   "execution_count": 224,
   "id": "5d17efc9",
   "metadata": {},
   "outputs": [
    {
     "name": "stdout",
     "output_type": "stream",
     "text": [
      "The Support vector classifier score:\n"
     ]
    },
    {
     "data": {
      "text/plain": [
       "0.8373983739837398"
      ]
     },
     "execution_count": 224,
     "metadata": {},
     "output_type": "execute_result"
    }
   ],
   "source": [
    "# Fitting the Svc Model\n",
    "print(\"The Support vector classifier score:\")\n",
    "\n",
    "svc_model.fit(x_train, y_train)\n",
    "\n",
    "# Prediction for train and test data\n",
    "y_train_pred = svc_model.predict(x_train)\n",
    "y_val_pred = svc_model.predict(x_val)\n",
    "\n",
    "# Accuracy score for train and test data\n",
    "svc_model.score(x_val, y_val)"
   ]
  },
  {
   "cell_type": "code",
   "execution_count": 225,
   "id": "6a5a482a",
   "metadata": {},
   "outputs": [
    {
     "name": "stdout",
     "output_type": "stream",
     "text": [
      "Classification report for Svc:\n",
      "              precision    recall  f1-score   support\n",
      "\n",
      "           0       0.85      0.58      0.69        38\n",
      "           1       0.84      0.95      0.89        85\n",
      "\n",
      "    accuracy                           0.84       123\n",
      "   macro avg       0.84      0.77      0.79       123\n",
      "weighted avg       0.84      0.84      0.83       123\n",
      "\n"
     ]
    }
   ],
   "source": [
    "# Classification report for Svc\n",
    "print(\"Classification report for Svc:\")\n",
    "print(classification_report(y_val, y_val_pred))"
   ]
  },
  {
   "cell_type": "code",
   "execution_count": 226,
   "id": "c13a503e",
   "metadata": {},
   "outputs": [
    {
     "name": "stdout",
     "output_type": "stream",
     "text": [
      "Cross-validation scores For Svc: [0.85135135 0.87248322 0.85714286 0.85526316 0.85526316]\n",
      "Mean cross-validation score For Svc: 0.8583007491520384\n"
     ]
    }
   ],
   "source": [
    "# Cross-validation for Svc\n",
    "cv_scores = cross_val_score(svc_model, x_train, y_train, cv=5, scoring='f1')\n",
    "print(f\"Cross-validation scores For Svc: {cv_scores}\")\n",
    "print(f\"Mean cross-validation score For Svc: {cv_scores.mean()}\")"
   ]
  },
  {
   "cell_type": "code",
   "execution_count": 227,
   "id": "ff2f5640",
   "metadata": {},
   "outputs": [
    {
     "name": "stdout",
     "output_type": "stream",
     "text": [
      "Confusion matrix for Svc:\n",
      "[[22 16]\n",
      " [ 4 81]]\n"
     ]
    }
   ],
   "source": [
    "# Confusing the Svc model\n",
    "print(\"Confusion matrix for Svc:\")\n",
    "conf_matrix = confusion_matrix(y_val, y_val_pred)\n",
    "print(conf_matrix)\n"
   ]
  },
  {
   "cell_type": "code",
   "execution_count": 228,
   "id": "a60f3eda",
   "metadata": {},
   "outputs": [
    {
     "name": "stdout",
     "output_type": "stream",
     "text": [
      "Training Set Performance For Svc:\n",
      "Accuracy: 0.814663951120163\n",
      "Precision: 0.7956730769230769\n",
      "Recall: 0.9821958456973294\n",
      "F1 Score: 0.8791500664010624\n",
      "\n",
      "Test Set Performance For Svc:\n",
      "Accuracy: 0.8373983739837398\n",
      "Precision: 0.8350515463917526\n",
      "Recall: 0.9529411764705882\n",
      "F1 Score: 0.8901098901098901\n"
     ]
    }
   ],
   "source": [
    "# Training set performance\n",
    "train_accuracy = accuracy_score(y_train, y_train_pred)\n",
    "train_precision = precision_score(y_train, y_train_pred)\n",
    "train_recall = recall_score(y_train, y_train_pred)\n",
    "train_f1 = f1_score(y_train, y_train_pred)\n",
    "\n",
    "# Test set performance\n",
    "test_accuracy = accuracy_score(y_val, y_val_pred)\n",
    "test_precision = precision_score(y_val, y_val_pred)\n",
    "test_recall = recall_score(y_val, y_val_pred)\n",
    "test_f1 = f1_score(y_val, y_val_pred)\n",
    "\n",
    "# Print the results\n",
    "print(\"Training Set Performance For Svc:\")\n",
    "print(f\"Accuracy: {train_accuracy}\")\n",
    "print(f\"Precision: {train_precision}\")\n",
    "print(f\"Recall: {train_recall}\")\n",
    "print(f\"F1 Score: {train_f1}\")\n",
    "\n",
    "print(\"\\nTest Set Performance For Svc:\")\n",
    "print(f\"Accuracy: {test_accuracy}\")\n",
    "print(f\"Precision: {test_precision}\")\n",
    "print(f\"Recall: {test_recall}\")\n",
    "print(f\"F1 Score: {test_f1}\")\n"
   ]
  },
  {
   "cell_type": "code",
   "execution_count": 229,
   "id": "72952120",
   "metadata": {},
   "outputs": [
    {
     "name": "stdout",
     "output_type": "stream",
     "text": [
      "(array([0, 1]), array([26, 97]))\n"
     ]
    }
   ],
   "source": [
    "predictions = svc_model.predict(x_val)\n",
    "print(np.unique(predictions, return_counts=True))\n"
   ]
  },
  {
   "cell_type": "markdown",
   "id": "b21c5705",
   "metadata": {},
   "source": [
    "### Xgboost Model"
   ]
  },
  {
   "cell_type": "code",
   "execution_count": 235,
   "id": "682fa0f6",
   "metadata": {},
   "outputs": [
    {
     "name": "stdout",
     "output_type": "stream",
     "text": [
      "The XGBClassifier score:\n"
     ]
    },
    {
     "data": {
      "text/plain": [
       "0.8292682926829268"
      ]
     },
     "execution_count": 235,
     "metadata": {},
     "output_type": "execute_result"
    }
   ],
   "source": [
    "# Fitting the xgboost model\n",
    "print(\"The XGBClassifier score:\")\n",
    "xboost_model.fit(x_train, y_train)\n",
    "\n",
    "# Prediction for train and test data\n",
    "y_train_pred = xboost_model.predict(x_train)\n",
    "y_val_pred = xboost_model.predict(x_val)\n",
    "\n",
    "# Accuracy score for train and test data\n",
    "xboost_model.score(x_val, y_val)"
   ]
  },
  {
   "cell_type": "code",
   "execution_count": 236,
   "id": "e911aaab",
   "metadata": {},
   "outputs": [
    {
     "name": "stdout",
     "output_type": "stream",
     "text": [
      "Classification report for XGBoost:\n",
      "              precision    recall  f1-score   support\n",
      "\n",
      "           0       0.76      0.66      0.70        38\n",
      "           1       0.86      0.91      0.88        85\n",
      "\n",
      "    accuracy                           0.83       123\n",
      "   macro avg       0.81      0.78      0.79       123\n",
      "weighted avg       0.83      0.83      0.83       123\n",
      "\n"
     ]
    }
   ],
   "source": [
    "# Classification Report for XGBoost Model\n",
    "print(\"Classification report for XGBoost:\")\n",
    "print(classification_report(y_val, y_val_pred))"
   ]
  },
  {
   "cell_type": "code",
   "execution_count": 237,
   "id": "b64741b4",
   "metadata": {},
   "outputs": [
    {
     "name": "stdout",
     "output_type": "stream",
     "text": [
      "Cross-validation scores For Xgboost: [0.82517483 0.84722222 0.83098592 0.81578947 0.83333333]\n",
      "Mean cross-validation score For Xgboost: 0.8305011539815098\n"
     ]
    }
   ],
   "source": [
    "# Cross-validation for XGBoost\n",
    "cv_scores = cross_val_score(xboost_model, x_train, y_train, cv=5, scoring='f1')\n",
    "print(f\"Cross-validation scores For Xgboost: {cv_scores}\")\n",
    "print(f\"Mean cross-validation score For Xgboost: {cv_scores.mean()}\")"
   ]
  },
  {
   "cell_type": "code",
   "execution_count": 238,
   "id": "91ac614e",
   "metadata": {},
   "outputs": [
    {
     "name": "stdout",
     "output_type": "stream",
     "text": [
      "Confusion matrix for Xgboost:\n",
      "[[25 13]\n",
      " [ 8 77]]\n"
     ]
    }
   ],
   "source": [
    "# Confusing the XGBoost model\n",
    "print(\"Confusion matrix for Xgboost:\")\n",
    "conf_matrix = confusion_matrix(y_val, y_val_pred)\n",
    "print(conf_matrix)"
   ]
  },
  {
   "cell_type": "code",
   "execution_count": 239,
   "id": "b28e016e",
   "metadata": {},
   "outputs": [
    {
     "name": "stdout",
     "output_type": "stream",
     "text": [
      "Training Set Performance For Xgboost:\n",
      "Accuracy: 0.8594704684317719\n",
      "Precision: 0.8507853403141361\n",
      "Recall: 0.9643916913946587\n",
      "F1 Score: 0.9040333796940194\n",
      "\n",
      "Test Set Performance For Xgboost:\n",
      "Accuracy: 0.8292682926829268\n",
      "Precision: 0.8555555555555555\n",
      "Recall: 0.9058823529411765\n",
      "F1 Score: 0.88\n"
     ]
    }
   ],
   "source": [
    "# Training set performance\n",
    "train_accuracy = accuracy_score(y_train, y_train_pred)\n",
    "train_precision = precision_score(y_train, y_train_pred)\n",
    "train_recall = recall_score(y_train, y_train_pred)\n",
    "train_f1 = f1_score(y_train, y_train_pred)\n",
    "\n",
    "# Test set performance\n",
    "test_accuracy = accuracy_score(y_val, y_val_pred)\n",
    "test_precision = precision_score(y_val, y_val_pred)\n",
    "test_recall = recall_score(y_val, y_val_pred)\n",
    "test_f1 = f1_score(y_val, y_val_pred)\n",
    "\n",
    "# Print the results\n",
    "print(\"Training Set Performance For Xgboost:\")\n",
    "print(f\"Accuracy: {train_accuracy}\")\n",
    "print(f\"Precision: {train_precision}\")\n",
    "print(f\"Recall: {train_recall}\")\n",
    "print(f\"F1 Score: {train_f1}\")\n",
    "\n",
    "print(\"\\nTest Set Performance For Xgboost:\")\n",
    "print(f\"Accuracy: {test_accuracy}\")\n",
    "print(f\"Precision: {test_precision}\")\n",
    "print(f\"Recall: {test_recall}\")\n",
    "print(f\"F1 Score: {test_f1}\")\n"
   ]
  }
 ],
 "metadata": {
  "kernelspec": {
   "display_name": "Python 3",
   "language": "python",
   "name": "python3"
  },
  "language_info": {
   "codemirror_mode": {
    "name": "ipython",
    "version": 3
   },
   "file_extension": ".py",
   "mimetype": "text/x-python",
   "name": "python",
   "nbconvert_exporter": "python",
   "pygments_lexer": "ipython3",
   "version": "3.11.1"
  }
 },
 "nbformat": 4,
 "nbformat_minor": 5
}
